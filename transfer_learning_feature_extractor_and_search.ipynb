{
 "cells": [
  {
   "cell_type": "code",
   "execution_count": 39,
   "id": "6dac6073",
   "metadata": {
    "ExecuteTime": {
     "end_time": "2021-12-08T00:07:29.934015Z",
     "start_time": "2021-12-08T00:07:29.921758Z"
    }
   },
   "outputs": [],
   "source": [
    "import numpy as np\n",
    "import cv2\n",
    "\n",
    "import PIL.Image as Image\n",
    "import os\n",
    "\n",
    "import matplotlib.pylab as plt\n",
    "\n",
    "import tensorflow as tf\n",
    "import tensorflow_hub as hub\n",
    "\n",
    "from tensorflow import keras\n",
    "from tensorflow.keras import layers\n",
    "from tensorflow.keras.models import Sequential"
   ]
  },
  {
   "cell_type": "code",
   "execution_count": 38,
   "id": "1a429c9d",
   "metadata": {
    "ExecuteTime": {
     "end_time": "2021-12-08T00:07:28.240277Z",
     "start_time": "2021-12-08T00:07:28.234961Z"
    }
   },
   "outputs": [],
   "source": []
  },
  {
   "cell_type": "code",
   "execution_count": 43,
   "id": "6fb8d814",
   "metadata": {
    "ExecuteTime": {
     "end_time": "2021-12-08T00:08:38.950637Z",
     "start_time": "2021-12-08T00:08:37.964530Z"
    }
   },
   "outputs": [],
   "source": [
    "IMAGE_SHAPE = (224, 224)\n",
    "\n",
    "classifier = tf.keras.Sequential([\n",
    "    hub.KerasLayer(\"https://tfhub.dev/google/tf2-preview/mobilenet_v2/classification/4\", \n",
    "                   input_shape=IMAGE_SHAPE+(3,))\n",
    "])\n",
    "\n",
    "classifier.include_top = False"
   ]
  },
  {
   "cell_type": "code",
   "execution_count": 44,
   "id": "2513aa02",
   "metadata": {
    "ExecuteTime": {
     "end_time": "2021-12-08T00:08:39.288697Z",
     "start_time": "2021-12-08T00:08:38.951915Z"
    }
   },
   "outputs": [
    {
     "name": "stdout",
     "output_type": "stream",
     "text": [
      "Model: \"sequential_5\"\n",
      "_________________________________________________________________\n",
      "Layer (type)                 Output Shape              Param #   \n",
      "=================================================================\n",
      "keras_layer_5 (KerasLayer)   (None, 1001)              3540265   \n",
      "=================================================================\n",
      "Total params: 3,540,265\n",
      "Trainable params: 0\n",
      "Non-trainable params: 3,540,265\n",
      "_________________________________________________________________\n"
     ]
    }
   ],
   "source": [
    "classifier.summary()"
   ]
  },
  {
   "cell_type": "code",
   "execution_count": 83,
   "id": "e243922b",
   "metadata": {
    "ExecuteTime": {
     "end_time": "2021-12-08T00:37:48.692622Z",
     "start_time": "2021-12-08T00:37:48.689875Z"
    }
   },
   "outputs": [],
   "source": [
    "def list_directories(path):\n",
    "    \"\"\"list files and directories in a given path\"\"\"\n",
    "    arr = os.listdir(path)\n",
    "    return arr"
   ]
  },
  {
   "cell_type": "code",
   "execution_count": 87,
   "id": "1e0e4118",
   "metadata": {
    "ExecuteTime": {
     "end_time": "2021-12-08T00:38:09.469178Z",
     "start_time": "2021-12-08T00:38:09.466172Z"
    }
   },
   "outputs": [],
   "source": [
    "\n",
    "def cnn_feature_extraction(image):\n",
    "    \n",
    "    image = np.array(image)/255.0\n",
    "    \n",
    "    pre = classifier.predict(image[np.newaxis])\n",
    "    pre = np.array(pre)\n",
    "    query_feature = pre.flatten()\n",
    "    \n",
    "    return query_feature\n",
    "    \n"
   ]
  },
  {
   "cell_type": "code",
   "execution_count": 88,
   "id": "f2f2ce91",
   "metadata": {
    "ExecuteTime": {
     "end_time": "2021-12-08T00:38:09.850329Z",
     "start_time": "2021-12-08T00:38:09.835978Z"
    }
   },
   "outputs": [],
   "source": [
    "def calculate_features():\n",
    "    \n",
    "    dicte = {}\n",
    "\n",
    "    images = []\n",
    "    file = 'images/'\n",
    "    indexies_path = 'indexies/'\n",
    "    imgs = list_directories(file)\n",
    "    \n",
    "    for i in imgs:\n",
    "        \n",
    "        pth = f\"{file}{i}\"\n",
    "        images.append(pth)\n",
    "        \n",
    "    for imagePath, imageID in zip(images, imgs):\n",
    "        \n",
    "#         image = cv2.imread(imagePath)\n",
    "        image = Image.open(imagePath).resize(IMAGE_SHAPE)\n",
    "\n",
    "        features = cnn_feature_extraction(image)\n",
    "        dicte[imageID] = features.tolist()\n",
    "        \n",
    "    with open(f'{indexies_path}cnn_indexies.json', 'w') as f:\n",
    "        json.dump(dicte, f)\n",
    "        \n"
   ]
  },
  {
   "cell_type": "code",
   "execution_count": 102,
   "id": "cfc8a30c",
   "metadata": {
    "ExecuteTime": {
     "end_time": "2021-12-08T00:43:12.095737Z",
     "start_time": "2021-12-08T00:43:11.973523Z"
    }
   },
   "outputs": [
    {
     "name": "stdout",
     "output_type": "stream",
     "text": [
      "('gf.jpg', 1001)\n"
     ]
    }
   ],
   "source": [
    "def search_cnn(query_image='gf.jpg'):\n",
    "    \n",
    "    best_matches = []\n",
    "    temp_matches = {}\n",
    "    \n",
    "    \n",
    "    file = 'images/'\n",
    "    indexies_path = 'indexies/'\n",
    "    \n",
    "#     query = cv2.imread('images/gf.jpg')\n",
    "#     query = cv2.imread(f'images/{query_image}')\n",
    "\n",
    "    query = Image.open(f'images/{query_image}').resize(IMAGE_SHAPE)\n",
    "\n",
    "    query_features = np.array(cnn_feature_extraction(query),np.float32)\n",
    "    \n",
    "    \n",
    "    f = open (f'{indexies_path}cnn_indexies.json', \"r\")\n",
    "    data = json.loads(f.read())\n",
    "    \n",
    "    for ID,f in data.items():\n",
    "        \n",
    "        indexed_features = np.array(f,np.float32)\n",
    "        \n",
    "        bf = cv2.BFMatcher(cv2.NORM_L2, crossCheck=False)\n",
    "        matches = bf.knnMatch(query_features,indexed_features, k=2)\n",
    "        \n",
    "        good = []\n",
    "        for m,n in matches:  ## read indivusal distance for each detected match between 2 images\n",
    "            if m.distance < 0.75*n.distance:\n",
    "                good.append([m])\n",
    "        temp_matches[ID] = len(good)\n",
    "        \n",
    "    sorted_temp_matches = sorted(temp_matches.items(), key=lambda kv: kv[1])\n",
    "#     print(sorted_temp_matches)\n",
    "    print(sorted_temp_matches[-1])\n",
    "\n",
    "search_cnn()"
   ]
  },
  {
   "cell_type": "code",
   "execution_count": 98,
   "id": "dfe4bacf",
   "metadata": {
    "ExecuteTime": {
     "end_time": "2021-12-08T00:42:32.979234Z",
     "start_time": "2021-12-08T00:42:32.541198Z"
    }
   },
   "outputs": [],
   "source": [
    "calculate_features()"
   ]
  },
  {
   "cell_type": "code",
   "execution_count": 79,
   "id": "e090e034",
   "metadata": {
    "ExecuteTime": {
     "end_time": "2021-12-08T00:29:34.451419Z",
     "start_time": "2021-12-08T00:29:34.445496Z"
    }
   },
   "outputs": [],
   "source": []
  },
  {
   "cell_type": "code",
   "execution_count": 80,
   "id": "04d58128",
   "metadata": {
    "ExecuteTime": {
     "end_time": "2021-12-08T00:29:34.635756Z",
     "start_time": "2021-12-08T00:29:34.629325Z"
    }
   },
   "outputs": [],
   "source": []
  },
  {
   "cell_type": "code",
   "execution_count": null,
   "id": "c637a129",
   "metadata": {
    "ExecuteTime": {
     "end_time": "2021-12-08T00:05:10.231182Z",
     "start_time": "2021-12-08T00:05:10.210169Z"
    }
   },
   "outputs": [],
   "source": []
  },
  {
   "cell_type": "code",
   "execution_count": 2,
   "id": "cbecfcb9",
   "metadata": {
    "ExecuteTime": {
     "end_time": "2021-12-07T20:09:04.056481Z",
     "start_time": "2021-12-07T20:09:02.859701Z"
    }
   },
   "outputs": [],
   "source": []
  },
  {
   "cell_type": "code",
   "execution_count": 3,
   "id": "c15c5b2e",
   "metadata": {
    "ExecuteTime": {
     "end_time": "2021-12-07T20:09:04.122614Z",
     "start_time": "2021-12-07T20:09:04.057946Z"
    }
   },
   "outputs": [],
   "source": []
  },
  {
   "cell_type": "code",
   "execution_count": null,
   "id": "08151145",
   "metadata": {
    "ExecuteTime": {
     "end_time": "2021-12-07T20:09:33.998739Z",
     "start_time": "2021-12-07T20:09:31.992073Z"
    }
   },
   "outputs": [],
   "source": []
  },
  {
   "cell_type": "code",
   "execution_count": null,
   "id": "5e00c6e2",
   "metadata": {
    "ExecuteTime": {
     "end_time": "2021-12-07T20:09:34.003698Z",
     "start_time": "2021-12-07T20:09:33.999968Z"
    }
   },
   "outputs": [],
   "source": []
  },
  {
   "cell_type": "code",
   "execution_count": null,
   "id": "419bfdd3",
   "metadata": {
    "ExecuteTime": {
     "end_time": "2021-12-07T20:09:34.020043Z",
     "start_time": "2021-12-07T20:09:34.005487Z"
    }
   },
   "outputs": [],
   "source": []
  },
  {
   "cell_type": "code",
   "execution_count": null,
   "id": "7779be67",
   "metadata": {
    "ExecuteTime": {
     "end_time": "2021-12-07T20:09:34.068337Z",
     "start_time": "2021-12-07T20:09:34.022726Z"
    }
   },
   "outputs": [],
   "source": []
  },
  {
   "cell_type": "code",
   "execution_count": null,
   "id": "6f7d0bf4",
   "metadata": {},
   "outputs": [],
   "source": []
  }
 ],
 "metadata": {
  "hide_input": false,
  "kernelspec": {
   "display_name": "Python 3",
   "language": "python",
   "name": "python3"
  },
  "language_info": {
   "codemirror_mode": {
    "name": "ipython",
    "version": 3
   },
   "file_extension": ".py",
   "mimetype": "text/x-python",
   "name": "python",
   "nbconvert_exporter": "python",
   "pygments_lexer": "ipython3",
   "version": "3.6.9"
  },
  "toc": {
   "base_numbering": 1,
   "nav_menu": {},
   "number_sections": true,
   "sideBar": true,
   "skip_h1_title": false,
   "title_cell": "Table of Contents",
   "title_sidebar": "Contents",
   "toc_cell": false,
   "toc_position": {},
   "toc_section_display": true,
   "toc_window_display": false
  }
 },
 "nbformat": 4,
 "nbformat_minor": 5
}
